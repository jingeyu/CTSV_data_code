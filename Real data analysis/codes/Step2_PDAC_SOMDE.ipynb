{
 "cells": [
  {
   "cell_type": "code",
   "execution_count": null,
   "metadata": {},
   "outputs": [],
   "source": [
    "%pylab inline\n",
    "import pandas as pd\n",
    "import numpy as np\n",
    "rcParams['axes.spines.right'] = False\n",
    "rcParams['axes.spines.top'] = False\n",
    "import os\n",
    "import time\n",
    "os.chdir(\"\") # set your working path properly\n",
    "from somde import SomNode"
   ]
  },
  {
   "cell_type": "code",
   "execution_count": null,
   "metadata": {},
   "outputs": [],
   "source": [
    "i = 1\n",
    "counts = pd.read_csv(\"csvs/PDAC_A_counts_%s.csv\" % i, index_col=0)\n",
    "counts = counts.T[counts.sum(0) >= 1].T# Filter practically unobserved genes\n",
    "sample_info = pd.read_csv(\"csvs/PDAC_A_info_%s.csv\" % i, index_col=0)\n",
    "counts = counts.loc[sample_info.index]  # Align count matrix with metadata table\n",
    "\n",
    "print(counts.shape)\n",
    "start = time.time()\n",
    "X = sample_info[['x', 'y']].values.astype(np.float32)\n",
    "som = SomNode(X,20)\n",
    "ndf,ninfo = som.mtx(counts.T)\n",
    "nres = som.norm()\n",
    "results, SVnum =som.run()\n",
    "end = time.time()\n",
    "print(end - start)\n",
    "results.to_csv(\"re/somde_PDAC_res_A_%s.csv\" % i)"
   ]
  }
 ],
 "metadata": {
  "kernelspec": {
   "display_name": "Python 3",
   "language": "python",
   "name": "python3"
  },
  "language_info": {
   "codemirror_mode": {
    "name": "ipython",
    "version": 3
   },
   "file_extension": ".py",
   "mimetype": "text/x-python",
   "name": "python",
   "nbconvert_exporter": "python",
   "pygments_lexer": "ipython3",
   "version": "3.7.4"
  }
 },
 "nbformat": 4,
 "nbformat_minor": 2
}
