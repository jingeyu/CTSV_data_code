{
 "cells": [
  {
   "cell_type": "code",
   "execution_count": null,
   "metadata": {},
   "outputs": [],
   "source": []
  },
  {
   "cell_type": "code",
   "execution_count": null,
   "metadata": {},
   "outputs": [],
   "source": []
  },
  {
   "cell_type": "code",
   "execution_count": null,
   "metadata": {},
   "outputs": [],
   "source": [
    "counts = pd.read_csv(\"csvs/PDAC_A_counts_%s.csv\" % i, index_col=0)\n",
    "counts = counts.T[counts.sum(0) >= 1].T# Filter practically unobserved genes\n",
    "sample_info = pd.read_csv(\"csvs/PDAC_A_info_%s.csv\" % i, index_col=0)\n",
    "counts = counts.loc[sample_info.index]  # Align count matrix with metadata table\n",
    "# sample_info.head(5)\n",
    "print(counts.shape)\n",
    "norm_expr = NaiveDE.stabilize(counts.T).T\n",
    "resid_expr = NaiveDE.regress_out(sample_info, norm_expr.T,'np.log(total_counts)').T\n",
    "X = sample_info[['x', 'y']]\n",
    "start = time.time()\n",
    "results = SpatialDE.run(X, resid_expr)\n",
    "end = time.time()\n",
    "print(end - start)\n",
    "save_re = results.sort_values('qval')[['g','pval','qval']]\n",
    "save_re.to_csv(\"re/spatial_PDAC_A%s.csv\" % i)"
   ]
  }
 ],
 "metadata": {
  "kernelspec": {
   "display_name": "Python 3",
   "language": "python",
   "name": "python3"
  },
  "language_info": {
   "codemirror_mode": {
    "name": "ipython",
    "version": 3
   },
   "file_extension": ".py",
   "mimetype": "text/x-python",
   "name": "python",
   "nbconvert_exporter": "python",
   "pygments_lexer": "ipython3",
   "version": "3.7.4"
  }
 },
 "nbformat": 4,
 "nbformat_minor": 2
}
